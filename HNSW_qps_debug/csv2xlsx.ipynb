{
 "cells": [
  {
   "cell_type": "code",
   "execution_count": 2,
   "metadata": {},
   "outputs": [],
   "source": [
    "# 将CSV转换成xlsx\n",
    "import pandas as pd"
   ]
  },
  {
   "cell_type": "code",
   "execution_count": 4,
   "metadata": {},
   "outputs": [],
   "source": [
    "# file_name=['HNSW_QPS_k10_1.csv','HNSW_QPS_k100_1.csv','HNSW_QPS_k1000_1.csv','HNSW_QPS_k10000_1.csv','HNSW_QPS_k10000_2.csv']\n",
    "# for i in file_name:\n",
    "#     data = pd.read_csv(i)\n",
    "#     data.to_excel(i.split('.')[0]+'.xlsx',index=False)\n",
    "#     print(i.split('.')[0]+'.xlsx')"
   ]
  },
  {
   "cell_type": "code",
   "execution_count": 5,
   "metadata": {},
   "outputs": [
    {
     "name": "stdout",
     "output_type": "stream",
     "text": [
      "HNSW_QPS_k10000_3.xlsx\n"
     ]
    }
   ],
   "source": [
    "file_name='HNSW_QPS_k10000_3.csv'\n",
    "data = pd.read_csv(file_name)\n",
    "data.to_excel(file_name.split('.')[0]+'.xlsx',index=False)\n",
    "print(file_name.split('.')[0]+'.xlsx')"
   ]
  }
 ],
 "metadata": {
  "kernelspec": {
   "display_name": "ann-benchmark",
   "language": "python",
   "name": "python3"
  },
  "language_info": {
   "codemirror_mode": {
    "name": "ipython",
    "version": 3
   },
   "file_extension": ".py",
   "mimetype": "text/x-python",
   "name": "python",
   "nbconvert_exporter": "python",
   "pygments_lexer": "ipython3",
   "version": "3.9.18"
  }
 },
 "nbformat": 4,
 "nbformat_minor": 2
}
